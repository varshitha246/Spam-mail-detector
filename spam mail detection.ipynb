{
 "cells": [
  {
   "cell_type": "code",
   "execution_count": 1,
   "id": "be7f96f9-e825-455e-a614-b6c918fb6826",
   "metadata": {},
   "outputs": [
    {
     "name": "stdout",
     "output_type": "stream",
     "text": [
      "Loading dataset...\n",
      "Dataset loaded. Total messages: 5572\n",
      "Spam messages: 747, Non-spam messages: 4825\n",
      "Model trained successfully.\n",
      "Model accuracy: 97.73%\n",
      "\n",
      "Testing with sample emails...\n",
      "Prediction for email: Spam\n",
      "Prediction for email: Not Spam\n"
     ]
    }
   ],
   "source": [
    "# Import libraries\n",
    "import pandas as pd\n",
    "from sklearn.feature_extraction.text import CountVectorizer\n",
    "from sklearn.model_selection import train_test_split\n",
    "from sklearn.naive_bayes import MultinomialNB\n",
    "from sklearn.metrics import accuracy_score\n",
    "\n",
    "# Step 1: Load the dataset\n",
    "print(\"Loading dataset...\")\n",
    "df = pd.read_csv(r\"C:\\Users\\varsh\\Downloads\\spam.csv\", encoding='latin-1')\n",
    "df = df.rename(columns={\"v1\": \"label\", \"v2\": \"message\"})  # Rename columns\n",
    "df = df[['label', 'message']]  # Keep only relevant columns\n",
    "df['label'] = df['label'].map({'spam': 1, 'ham': 0})  # Convert labels to binary\n",
    "\n",
    "print(f\"Dataset loaded. Total messages: {len(df)}\")\n",
    "print(f\"Spam messages: {df['label'].sum()}, Non-spam messages: {len(df) - df['label'].sum()}\")\n",
    "\n",
    "# Step 2: Text vectorization\n",
    "vectorizer = CountVectorizer(stop_words='english')\n",
    "X = vectorizer.fit_transform(df['message']).toarray()\n",
    "y = df['label']\n",
    "\n",
    "# Step 3: Train-test split\n",
    "X_train, X_test, y_train, y_test = train_test_split(X, y, test_size=0.3, random_state=42)\n",
    "\n",
    "# Step 4: Train the model\n",
    "model = MultinomialNB()\n",
    "model.fit(X_train, y_train)\n",
    "print(\"Model trained successfully.\")\n",
    "\n",
    "# Step 5: Evaluate the model\n",
    "y_pred = model.predict(X_test)\n",
    "accuracy = accuracy_score(y_test, y_pred)\n",
    "print(f\"Model accuracy: {accuracy * 100:.2f}%\")\n",
    "\n",
    "# Function to predict spam or not\n",
    "def predict_spam(email):\n",
    "    email_vectorized = vectorizer.transform([email]).toarray()\n",
    "    prediction = model.predict(email_vectorized)[0]\n",
    "    print(f\"Prediction for email: {'Spam' if prediction == 1 else 'Not Spam'}\")\n",
    "\n",
    "# Step 6: Test with a new email\n",
    "print(\"\\nTesting with sample emails...\")\n",
    "predict_spam(\"Congratulations! You've won a free ticket. Claim now!\")\n",
    "predict_spam(\"Hi, can we schedule a meeting tomorrow?\")"
   ]
  },
  {
   "cell_type": "code",
   "execution_count": null,
   "id": "39157100-d2cf-42e6-8da8-480d32df5557",
   "metadata": {},
   "outputs": [],
   "source": []
  }
 ],
 "metadata": {
  "kernelspec": {
   "display_name": "Python 3 (ipykernel)",
   "language": "python",
   "name": "python3"
  },
  "language_info": {
   "codemirror_mode": {
    "name": "ipython",
    "version": 3
   },
   "file_extension": ".py",
   "mimetype": "text/x-python",
   "name": "python",
   "nbconvert_exporter": "python",
   "pygments_lexer": "ipython3",
   "version": "3.12.7"
  }
 },
 "nbformat": 4,
 "nbformat_minor": 5
}
